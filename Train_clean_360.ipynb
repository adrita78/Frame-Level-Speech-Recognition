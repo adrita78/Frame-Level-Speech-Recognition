{
  "cells": [
    {
      "cell_type": "code",
      "execution_count": null,
      "metadata": {
        "id": "ULfYerJWBq6W"
      },
      "outputs": [],
      "source": [
        "import os\n",
        "from glob import glob\n",
        "import numpy as np\n",
        "import gc"
      ]
    },
    {
      "cell_type": "code",
      "execution_count": null,
      "metadata": {
        "id": "ALf4ZEFEjI7p"
      },
      "outputs": [],
      "source": [
        "!pip install -q torchsummaryX wandb --quiet"
      ]
    },
    {
      "cell_type": "code",
      "execution_count": null,
      "metadata": {
        "colab": {
          "base_uri": "https://localhost:8080/"
        },
        "id": "K0ePWcIGjLgg",
        "outputId": "e8c6d290-9890-4ae6-cf23-906213c9ee2a"
      },
      "outputs": [
        {
          "output_type": "stream",
          "name": "stdout",
          "text": [
            "Device: cuda\n"
          ]
        }
      ],
      "source": [
        "import torch\n",
        "import torch.nn as nn\n",
        "import torch.nn.functional as F\n",
        "import numpy as np\n",
        "import sklearn.metrics\n",
        "import matplotlib.pyplot as plt\n",
        "from torch.utils.data import DataLoader, TensorDataset\n",
        "from torch import optim\n",
        "from torch.nn import init\n",
        "import wandb\n",
        "from torchsummaryX import summary\n",
        "device = 'cuda' if torch.cuda.is_available() else 'cpu'\n",
        "print(\"Device:\",device)\n",
        "\n",
        "\n",
        "#from torchsummaryX import summary\n",
        "\n",
        "from tqdm.notebook import tqdm"
      ]
    },
    {
      "cell_type": "code",
      "execution_count": null,
      "metadata": {
        "colab": {
          "base_uri": "https://localhost:8080/"
        },
        "outputId": "9c16b286-93f9-4b54-a9e7-36eec26ba6f3",
        "id": "zswOJcNQu-mT"
      },
      "outputs": [
        {
          "output_type": "stream",
          "name": "stdout",
          "text": [
            "Drive already mounted at /content/drive; to attempt to forcibly remount, call drive.mount(\"/content/drive\", force_remount=True).\n"
          ]
        }
      ],
      "source": [
        "from google.colab import drive\n",
        "drive.mount('/content/drive')"
      ]
    },
    {
      "cell_type": "code",
      "execution_count": null,
      "metadata": {
        "colab": {
          "base_uri": "https://localhost:8080/"
        },
        "id": "HolhTPj_jWNR",
        "outputId": "f62b8177-39c7-446d-b245-a2347f4a7fba"
      },
      "outputs": [
        {
          "output_type": "stream",
          "name": "stdout",
          "text": [
            "Looking in indexes: https://pypi.org/simple, https://us-python.pkg.dev/colab-wheels/public/simple/\n",
            "Collecting kaggle==1.5.8\n",
            "  Using cached kaggle-1.5.8-py3-none-any.whl\n",
            "Installing collected packages: kaggle\n",
            "  Attempting uninstall: kaggle\n",
            "    Found existing installation: kaggle 1.5.8\n",
            "    Uninstalling kaggle-1.5.8:\n",
            "      Successfully uninstalled kaggle-1.5.8\n",
            "Successfully installed kaggle-1.5.8\n",
            "mkdir: cannot create directory ‘/root/.kaggle’: File exists\n"
          ]
        }
      ],
      "source": [
        "!pip install --upgrade --force-reinstall --no-deps kaggle==1.5.8\n",
        "!mkdir /root/.kaggle\n",
        "\n",
        "with open(\"/root/.kaggle/kaggle.json\", \"w+\") as f:\n",
        "    f.write('{\"username\":\"adritadas\",\"key\":\"4d8e5e73b5126973227f2e938ba1249f\"}') \n",
        "    # Put your kaggle username & key here\n",
        "\n",
        "!chmod 600 /root/.kaggle/kaggle.json"
      ]
    },
    {
      "cell_type": "code",
      "execution_count": null,
      "metadata": {
        "colab": {
          "base_uri": "https://localhost:8080/"
        },
        "id": "zKrw7Pu9jfRy",
        "outputId": "f5c31419-397c-4bba-cdf4-216aac444b33"
      },
      "outputs": [
        {
          "output_type": "stream",
          "name": "stdout",
          "text": [
            "11-785-s23-hw1p2.zip: Skipping, found more recently modified local copy (use --force to force download)\n",
            "mkdir: cannot create directory ‘/content/data’: File exists\n"
          ]
        }
      ],
      "source": [
        "!kaggle competitions download -c 11-785-s23-hw1p2\n",
        "!mkdir '/content/data'\n",
        "\n",
        "!unzip -qo '11-785-s23-hw1p2.zip' -d '/content/data'"
      ]
    },
    {
      "cell_type": "code",
      "execution_count": null,
      "metadata": {
        "id": "vMYLGncujlF4"
      },
      "outputs": [],
      "source": [
        "data_dir_dev_clean = \"/content/data/11-785-s23-hw1p2/dev-clean\"\n",
        "\n",
        "data_dir_train_clean = \"/content/data/11-785-s23-hw1p2/train-clean-360\""
      ]
    },
    {
      "cell_type": "code",
      "execution_count": null,
      "metadata": {
        "id": "4K7YjYAAmMmb"
      },
      "outputs": [],
      "source": [
        "root = \"/content/data/11-785-s23-hw1p2/\"\n",
        "partition = \"dev-clean\""
      ]
    },
    {
      "cell_type": "code",
      "execution_count": null,
      "metadata": {
        "colab": {
          "base_uri": "https://localhost:8080/"
        },
        "id": "_FyUnOb3mQpm",
        "outputId": "f3b9aba9-bc6d-4f2b-915e-1174e2263936"
      },
      "outputs": [
        {
          "output_type": "stream",
          "name": "stdout",
          "text": [
            "0\n"
          ]
        }
      ],
      "source": [
        "PHONEMES = [\n",
        "            '[SIL]',   'AA',    'AE',    'AH',    'AO',    'AW',    'AY',  \n",
        "            'B',     'CH',    'D',     'DH',    'EH',    'ER',    'EY',\n",
        "            'F',     'G',     'HH',    'IH',    'IY',    'JH',    'K',\n",
        "            'L',     'M',     'N',     'NG',    'OW',    'OY',    'P',\n",
        "            'R',     'S',     'SH',    'T',     'TH',    'UH',    'UW',\n",
        "            'V',     'W',     'Y',     'Z',     'ZH']\n",
        "\n",
        "print(PHONEMES.index('[SIL]'))  "
      ]
    },
    {
      "cell_type": "code",
      "execution_count": null,
      "metadata": {
        "colab": {
          "base_uri": "https://localhost:8080/"
        },
        "id": "O4ffxO_Jmbuh",
        "outputId": "b89dd80f-286e-4a94-93bd-3d5276f31793"
      },
      "outputs": [
        {
          "output_type": "execute_result",
          "data": {
            "text/plain": [
              "0"
            ]
          },
          "metadata": {},
          "execution_count": 9
        }
      ],
      "source": [
        "torch.cuda.empty_cache()\n",
        "gc.collect()"
      ]
    },
    {
      "cell_type": "code",
      "execution_count": null,
      "metadata": {
        "id": "6JY7d0XamgfP"
      },
      "outputs": [],
      "source": [
        "mfcc_dir = sorted(glob(os.path.join(root, partition, 'mfcc','*.npy')))\n",
        "transcript_dir = sorted(glob(os.path.join(root,partition,'transcript','*.npy')))"
      ]
    },
    {
      "cell_type": "code",
      "execution_count": null,
      "metadata": {
        "id": "gRrYLD7pmkay"
      },
      "outputs": [],
      "source": [
        "class AudioDataset(torch.utils.data.Dataset):\n",
        "  def __init__(self, root, phonemes = PHONEMES, context=0, partition= \"train-clean-360\"): \n",
        "    self.context = context\n",
        "    self.phonemes = phonemes\n",
        "\n",
        "    mfcc_names =  sorted(glob(os.path.join(root, partition, 'mfcc','*.npy')))\n",
        "    # TODO: List files in self.transcript_dir using os.listdir in sorted order\n",
        "    transcript_names  = sorted(glob(os.path.join(root,partition,'transcript','*.npy')))\n",
        "\n",
        "        \n",
        "\n",
        "    # Making sure that we have the same no. of mfcc and transcripts\n",
        "    assert len(mfcc_names) == len(transcript_names)\n",
        "    length = len(mfcc_names)\n",
        "    T = 0 \n",
        "    for i in range(length):\n",
        "      mfcc = np.load(mfcc_names[i])\n",
        "      T += mfcc.shape[0]\n",
        "\n",
        "    self.mfccs = np.zeros((T + 2*context, 27),dtype=np.float32)\n",
        "    self.transcripts = np.zeros((T, ),dtype=np.uint8)\n",
        "    self.length = T\n",
        "    cx, cy = context, 0\n",
        "    for i in range(length):\n",
        "      mfcc = np.load(mfcc_names[i])\n",
        "      mfcc -= (np.mean(mfcc, axis=0) + 1e-8)\n",
        "      transcript = np.load(transcript_names[i])[1:-1]\n",
        "      transcript = [PHONEMES.index(transcript[i])for i in range (len(transcript))]\n",
        "      T_i = mfcc.shape[0]\n",
        "      self.mfccs[cx:cx+T_i] = mfcc\n",
        "      self.transcripts[cy:cy+T_i] = transcript\n",
        "      cx += T_i\n",
        "      cy += T_i\n",
        "   \n",
        "  def __len__(self):\n",
        "    return self.length\n",
        "\n",
        "  def __getitem__(self, ind):\n",
        "        \n",
        "        # TODO: Based on context and offset, return a frame at given index with context frames to the left, and right.\n",
        "    mfccs =  self.mfccs[ind:ind+2*self.context+1, :].reshape(-1)\n",
        "        # After slicing, you get an array of shape 2*context+1 x 27. But our MLP needs 1d data and not 2d.\n",
        "        \n",
        "    mfccs      = torch.FloatTensor(mfccs) # Convert to tensors\n",
        "    transcripts    = torch.tensor(self.transcripts[ind])       \n",
        "\n",
        "    return mfccs, transcripts"
      ]
    },
    {
      "cell_type": "code",
      "execution_count": null,
      "metadata": {
        "id": "Emury05rULHu"
      },
      "outputs": [],
      "source": [
        "class AudioTestDataset(torch.utils.data.Dataset):\n",
        "  def __init__(self, root, phonemes = PHONEMES, context=25, partition= \"train-clean-360\"): \n",
        "    self.context = context\n",
        "    self.phonemes = phonemes\n",
        "\n",
        "    mfcc_names =  sorted(glob(os.path.join(root, partition, 'mfcc','*.npy')))\n",
        "    # TODO: List files in self.transcript_dir using os.listdir in sorted order\n",
        "    \n",
        "\n",
        "        \n",
        "\n",
        "    # Making sure that we have the same no. of mfcc and transcripts\n",
        "    \n",
        "    length = len(mfcc_names)\n",
        "    T = 0 \n",
        "    for i in range(length):\n",
        "      mfcc = np.load(mfcc_names[i])\n",
        "      mfcc -= (np.mean(mfcc, axis=0) + 1e-8)\n",
        "      T += mfcc.shape[0]\n",
        "\n",
        "    self.mfccs = np.zeros((T + 2*context, 27),dtype=np.float32)\n",
        "    self.length = T\n",
        "    cx = context\n",
        "    for i in range(length):\n",
        "      mfcc = np.load(mfcc_names[i])\n",
        "      T_i = mfcc.shape[0]\n",
        "      self.mfccs[cx:cx+T_i] = mfcc\n",
        "      cx += T_i\n",
        "\n",
        "  def __len__(self):\n",
        "    return self.length\n",
        "\n",
        "  def __getitem__(self, ind):\n",
        "    mfccs =  self.mfccs[ind:ind+2*self.context+1, :].reshape(-1)\n",
        "        # After slicing, you get an array of shape 2*context+1 x 27. But our MLP needs 1d data and not 2d.\n",
        "        \n",
        "\n",
        "    mfccs      = torch.FloatTensor(mfccs) # Convert to tensors\n",
        "        \n",
        "    return mfccs"
      ]
    },
    {
      "cell_type": "code",
      "execution_count": null,
      "metadata": {
        "id": "hBrIm9NCAmJO"
      },
      "outputs": [],
      "source": [
        "config = {\n",
        "    'epochs'        : 60,\n",
        "    'batch_size'    : 1024*8,\n",
        "    'context'       : 25,\n",
        "    'init_lr'       : 1e-3,\n",
        "    'architecture'  : 'unkown'\n",
        "    # Add more as you need them - e.g dropout values, weight decay, scheduler parameters\n",
        "}"
      ]
    },
    {
      "cell_type": "code",
      "execution_count": null,
      "metadata": {
        "colab": {
          "base_uri": "https://localhost:8080/"
        },
        "id": "W5yarecnO0w-",
        "outputId": "53450277-7bca-4aed-d4b0-0f1d5882437b"
      },
      "outputs": [
        {
          "output_type": "execute_result",
          "data": {
            "text/plain": [
              "0"
            ]
          },
          "metadata": {},
          "execution_count": 14
        }
      ],
      "source": [
        "torch.cuda.empty_cache()\n",
        "gc.collect()"
      ]
    },
    {
      "cell_type": "code",
      "execution_count": null,
      "metadata": {
        "id": "BqkNeWSSApAr"
      },
      "outputs": [],
      "source": [
        "#TODO: Create a dataset object using the AudioDataset class for the training data \n",
        "train_data = AudioDataset(root, phonemes = PHONEMES, context=config['context'], partition= \"train-clean-360\")\n",
        "\n",
        "# TODO: Create a dataset object using the AudioDataset class for the validation data \n",
        "val_data = AudioDataset(root, phonemes = PHONEMES, context=config['context'], partition= \"dev-clean\")\n",
        "\n",
        "# TODO: Create a dataset object using the AudioTestDataset class for the test data \n",
        "test_data = AudioTestDataset(root, phonemes = PHONEMES, context=config['context'], partition= \"test-clean\")"
      ]
    },
    {
      "cell_type": "code",
      "execution_count": null,
      "metadata": {
        "colab": {
          "base_uri": "https://localhost:8080/"
        },
        "id": "HTr5F-5TOslK",
        "outputId": "05752d01-8a0a-44ee-91d8-6c3c8a8dd1de"
      },
      "outputs": [
        {
          "output_type": "stream",
          "name": "stdout",
          "text": [
            "Batch size     :  8192\n",
            "Context        :  25\n",
            "Input size     :  1377\n",
            "Output symbols :  40\n",
            "Train dataset samples = 130453995, batches = 15925\n",
            "Validation dataset samples = 1928204, batches = 236\n",
            "Test dataset samples = 1934138, batches = 237\n"
          ]
        }
      ],
      "source": [
        "train_loader = torch.utils.data.DataLoader(\n",
        "    dataset     = train_data, \n",
        "    num_workers = 4,\n",
        "    batch_size  = config['batch_size'], \n",
        "    pin_memory  = True,\n",
        "    shuffle     = True\n",
        ")\n",
        "\n",
        "val_loader = torch.utils.data.DataLoader(\n",
        "    dataset     = val_data, \n",
        "    num_workers = 2,\n",
        "    batch_size  = config['batch_size'],\n",
        "    pin_memory  = True,\n",
        "    shuffle     = False\n",
        ")\n",
        "\n",
        "test_loader = torch.utils.data.DataLoader(\n",
        "    dataset     = test_data, \n",
        "    num_workers = 2, \n",
        "    batch_size  = config['batch_size'], \n",
        "    pin_memory  = True, \n",
        "    shuffle     = False\n",
        ")\n",
        "\n",
        "\n",
        "print(\"Batch size     : \", config['batch_size'])\n",
        "print(\"Context        : \", config['context'])\n",
        "print(\"Input size     : \", (2*config['context']+1)*27)\n",
        "print(\"Output symbols : \", len(PHONEMES))\n",
        "\n",
        "print(\"Train dataset samples = {}, batches = {}\".format(train_data.__len__(), len(train_loader)))\n",
        "print(\"Validation dataset samples = {}, batches = {}\".format(val_data.__len__(), len(val_loader)))\n",
        "print(\"Test dataset samples = {}, batches = {}\".format(test_data.__len__(), len(test_loader)))"
      ]
    },
    {
      "cell_type": "code",
      "execution_count": null,
      "metadata": {
        "id": "k22mMZYSelUH"
      },
      "outputs": [],
      "source": [
        "# Implement dropout,scheduler,kaiming\n",
        "class TrainModel(torch.nn.Module):\n",
        "     def __init__(self,in_features,out_features):\n",
        "        super(TrainModel,self).__init__()\n",
        "\n",
        "        self.model = torch.nn.Sequential(\n",
        "            \n",
        "            torch.nn.Linear(in_features , 2100),\n",
        "            torch.nn.BatchNorm1d(2100),\n",
        "            torch.nn.Softplus(),\n",
        "            torch.nn.Dropout(p=0.15),\n",
        "            \n",
        "            torch.nn.Linear(2100,2100),\n",
        "            torch.nn.BatchNorm1d(2100),\n",
        "            torch.nn.Softplus(),\n",
        "            torch.nn.Dropout(p=0.15),\n",
        "            \n",
        "            torch.nn.Linear(2100,2100),\n",
        "            torch.nn.BatchNorm1d(2100),\n",
        "            torch.nn.Softplus(),\n",
        "            torch.nn.Dropout(p=0.15),\n",
        "            \n",
        "            torch.nn.Linear(2100,2100),\n",
        "            torch.nn.BatchNorm1d(2100),\n",
        "            torch.nn.Softplus(),\n",
        "            torch.nn.Dropout(p=0.2),\n",
        "            \n",
        "            torch.nn.Linear(2100,2100),\n",
        "            torch.nn.BatchNorm1d(2100),\n",
        "            torch.nn.Softplus(),\n",
        "            torch.nn.Dropout(p=0.2),\n",
        "            \n",
        "            torch.nn.Linear(2100,out_features),\n",
        "          \n",
        "            \n",
        "\n",
        "            \n",
        "        )\n",
        "\n",
        "     def forward(self,x):\n",
        "       out = self.model(x)\n",
        "\n",
        "       return out\n",
        "\n",
        "    "
      ]
    },
    {
      "cell_type": "code",
      "execution_count": null,
      "metadata": {
        "colab": {
          "base_uri": "https://localhost:8080/"
        },
        "id": "SNkgn8skC_84",
        "outputId": "44a93d1a-bfa0-4701-ef29-ceeac3c086aa"
      },
      "outputs": [
        {
          "output_type": "stream",
          "name": "stdout",
          "text": [
            "torch.Size([8192, 1377]) torch.Size([8192])\n"
          ]
        }
      ],
      "source": [
        "for i, data in enumerate(train_loader):\n",
        "    mfccs, transcripts = data\n",
        "    print(mfccs.shape, transcripts.shape)\n",
        "    break"
      ]
    },
    {
      "cell_type": "code",
      "execution_count": null,
      "metadata": {
        "colab": {
          "base_uri": "https://localhost:8080/",
          "height": 1000
        },
        "id": "SDsN_RSUewJj",
        "outputId": "119b773b-74d0-42f4-9ba4-b78a392bc3bf"
      },
      "outputs": [
        {
          "output_type": "stream",
          "name": "stdout",
          "text": [
            "TrainModel(\n",
            "  (model): Sequential(\n",
            "    (0): Linear(in_features=1377, out_features=2100, bias=True)\n",
            "    (1): BatchNorm1d(2100, eps=1e-05, momentum=0.1, affine=True, track_running_stats=True)\n",
            "    (2): Softplus(beta=1, threshold=20)\n",
            "    (3): Dropout(p=0.15, inplace=False)\n",
            "    (4): Linear(in_features=2100, out_features=2100, bias=True)\n",
            "    (5): BatchNorm1d(2100, eps=1e-05, momentum=0.1, affine=True, track_running_stats=True)\n",
            "    (6): Softplus(beta=1, threshold=20)\n",
            "    (7): Dropout(p=0.15, inplace=False)\n",
            "    (8): Linear(in_features=2100, out_features=2100, bias=True)\n",
            "    (9): BatchNorm1d(2100, eps=1e-05, momentum=0.1, affine=True, track_running_stats=True)\n",
            "    (10): Softplus(beta=1, threshold=20)\n",
            "    (11): Dropout(p=0.15, inplace=False)\n",
            "    (12): Linear(in_features=2100, out_features=2100, bias=True)\n",
            "    (13): BatchNorm1d(2100, eps=1e-05, momentum=0.1, affine=True, track_running_stats=True)\n",
            "    (14): Softplus(beta=1, threshold=20)\n",
            "    (15): Dropout(p=0.2, inplace=False)\n",
            "    (16): Linear(in_features=2100, out_features=2100, bias=True)\n",
            "    (17): BatchNorm1d(2100, eps=1e-05, momentum=0.1, affine=True, track_running_stats=True)\n",
            "    (18): Softplus(beta=1, threshold=20)\n",
            "    (19): Dropout(p=0.2, inplace=False)\n",
            "    (20): Linear(in_features=2100, out_features=40, bias=True)\n",
            "  )\n",
            ")\n",
            "=========================================================================\n",
            "                         Kernel Shape  Output Shape   Params Mult-Adds\n",
            "Layer                                                                 \n",
            "0_model.Linear_0         [1377, 2100]  [8192, 2100]  2.8938M   2.8917M\n",
            "1_model.BatchNorm1d_1          [2100]  [8192, 2100]     4.2k      2.1k\n",
            "2_model.Softplus_2                  -  [8192, 2100]        -         -\n",
            "3_model.Dropout_3                   -  [8192, 2100]        -         -\n",
            "4_model.Linear_4         [2100, 2100]  [8192, 2100]  4.4121M     4.41M\n",
            "5_model.BatchNorm1d_5          [2100]  [8192, 2100]     4.2k      2.1k\n",
            "6_model.Softplus_6                  -  [8192, 2100]        -         -\n",
            "7_model.Dropout_7                   -  [8192, 2100]        -         -\n",
            "8_model.Linear_8         [2100, 2100]  [8192, 2100]  4.4121M     4.41M\n",
            "9_model.BatchNorm1d_9          [2100]  [8192, 2100]     4.2k      2.1k\n",
            "10_model.Softplus_10                -  [8192, 2100]        -         -\n",
            "11_model.Dropout_11                 -  [8192, 2100]        -         -\n",
            "12_model.Linear_12       [2100, 2100]  [8192, 2100]  4.4121M     4.41M\n",
            "13_model.BatchNorm1d_13        [2100]  [8192, 2100]     4.2k      2.1k\n",
            "14_model.Softplus_14                -  [8192, 2100]        -         -\n",
            "15_model.Dropout_15                 -  [8192, 2100]        -         -\n",
            "16_model.Linear_16       [2100, 2100]  [8192, 2100]  4.4121M     4.41M\n",
            "17_model.BatchNorm1d_17        [2100]  [8192, 2100]     4.2k      2.1k\n",
            "18_model.Softplus_18                -  [8192, 2100]        -         -\n",
            "19_model.Dropout_19                 -  [8192, 2100]        -         -\n",
            "20_model.Linear_20         [2100, 40]    [8192, 40]   84.04k     84.0k\n",
            "-------------------------------------------------------------------------\n",
            "                         Totals\n",
            "Total params          20.64724M\n",
            "Trainable params      20.64724M\n",
            "Non-trainable params        0.0\n",
            "Mult-Adds              20.6262M\n",
            "=========================================================================\n"
          ]
        },
        {
          "output_type": "stream",
          "name": "stderr",
          "text": [
            "/usr/local/lib/python3.8/dist-packages/torchsummaryX/torchsummaryX.py:101: FutureWarning: Dropping of nuisance columns in DataFrame reductions (with 'numeric_only=None') is deprecated; in a future version this will raise TypeError.  Select only valid columns before calling the reduction.\n",
            "  df_sum = df.sum()\n"
          ]
        },
        {
          "output_type": "execute_result",
          "data": {
            "text/plain": [
              "                         Kernel Shape  Output Shape     Params  Mult-Adds\n",
              "Layer                                                                    \n",
              "0_model.Linear_0         [1377, 2100]  [8192, 2100]  2893800.0  2891700.0\n",
              "1_model.BatchNorm1d_1          [2100]  [8192, 2100]     4200.0     2100.0\n",
              "2_model.Softplus_2                  -  [8192, 2100]        NaN        NaN\n",
              "3_model.Dropout_3                   -  [8192, 2100]        NaN        NaN\n",
              "4_model.Linear_4         [2100, 2100]  [8192, 2100]  4412100.0  4410000.0\n",
              "5_model.BatchNorm1d_5          [2100]  [8192, 2100]     4200.0     2100.0\n",
              "6_model.Softplus_6                  -  [8192, 2100]        NaN        NaN\n",
              "7_model.Dropout_7                   -  [8192, 2100]        NaN        NaN\n",
              "8_model.Linear_8         [2100, 2100]  [8192, 2100]  4412100.0  4410000.0\n",
              "9_model.BatchNorm1d_9          [2100]  [8192, 2100]     4200.0     2100.0\n",
              "10_model.Softplus_10                -  [8192, 2100]        NaN        NaN\n",
              "11_model.Dropout_11                 -  [8192, 2100]        NaN        NaN\n",
              "12_model.Linear_12       [2100, 2100]  [8192, 2100]  4412100.0  4410000.0\n",
              "13_model.BatchNorm1d_13        [2100]  [8192, 2100]     4200.0     2100.0\n",
              "14_model.Softplus_14                -  [8192, 2100]        NaN        NaN\n",
              "15_model.Dropout_15                 -  [8192, 2100]        NaN        NaN\n",
              "16_model.Linear_16       [2100, 2100]  [8192, 2100]  4412100.0  4410000.0\n",
              "17_model.BatchNorm1d_17        [2100]  [8192, 2100]     4200.0     2100.0\n",
              "18_model.Softplus_18                -  [8192, 2100]        NaN        NaN\n",
              "19_model.Dropout_19                 -  [8192, 2100]        NaN        NaN\n",
              "20_model.Linear_20         [2100, 40]    [8192, 40]    84040.0    84000.0"
            ],
            "text/html": [
              "\n",
              "  <div id=\"df-fed49ff2-d574-4834-9b20-fbbf9681e2d1\">\n",
              "    <div class=\"colab-df-container\">\n",
              "      <div>\n",
              "<style scoped>\n",
              "    .dataframe tbody tr th:only-of-type {\n",
              "        vertical-align: middle;\n",
              "    }\n",
              "\n",
              "    .dataframe tbody tr th {\n",
              "        vertical-align: top;\n",
              "    }\n",
              "\n",
              "    .dataframe thead th {\n",
              "        text-align: right;\n",
              "    }\n",
              "</style>\n",
              "<table border=\"1\" class=\"dataframe\">\n",
              "  <thead>\n",
              "    <tr style=\"text-align: right;\">\n",
              "      <th></th>\n",
              "      <th>Kernel Shape</th>\n",
              "      <th>Output Shape</th>\n",
              "      <th>Params</th>\n",
              "      <th>Mult-Adds</th>\n",
              "    </tr>\n",
              "    <tr>\n",
              "      <th>Layer</th>\n",
              "      <th></th>\n",
              "      <th></th>\n",
              "      <th></th>\n",
              "      <th></th>\n",
              "    </tr>\n",
              "  </thead>\n",
              "  <tbody>\n",
              "    <tr>\n",
              "      <th>0_model.Linear_0</th>\n",
              "      <td>[1377, 2100]</td>\n",
              "      <td>[8192, 2100]</td>\n",
              "      <td>2893800.0</td>\n",
              "      <td>2891700.0</td>\n",
              "    </tr>\n",
              "    <tr>\n",
              "      <th>1_model.BatchNorm1d_1</th>\n",
              "      <td>[2100]</td>\n",
              "      <td>[8192, 2100]</td>\n",
              "      <td>4200.0</td>\n",
              "      <td>2100.0</td>\n",
              "    </tr>\n",
              "    <tr>\n",
              "      <th>2_model.Softplus_2</th>\n",
              "      <td>-</td>\n",
              "      <td>[8192, 2100]</td>\n",
              "      <td>NaN</td>\n",
              "      <td>NaN</td>\n",
              "    </tr>\n",
              "    <tr>\n",
              "      <th>3_model.Dropout_3</th>\n",
              "      <td>-</td>\n",
              "      <td>[8192, 2100]</td>\n",
              "      <td>NaN</td>\n",
              "      <td>NaN</td>\n",
              "    </tr>\n",
              "    <tr>\n",
              "      <th>4_model.Linear_4</th>\n",
              "      <td>[2100, 2100]</td>\n",
              "      <td>[8192, 2100]</td>\n",
              "      <td>4412100.0</td>\n",
              "      <td>4410000.0</td>\n",
              "    </tr>\n",
              "    <tr>\n",
              "      <th>5_model.BatchNorm1d_5</th>\n",
              "      <td>[2100]</td>\n",
              "      <td>[8192, 2100]</td>\n",
              "      <td>4200.0</td>\n",
              "      <td>2100.0</td>\n",
              "    </tr>\n",
              "    <tr>\n",
              "      <th>6_model.Softplus_6</th>\n",
              "      <td>-</td>\n",
              "      <td>[8192, 2100]</td>\n",
              "      <td>NaN</td>\n",
              "      <td>NaN</td>\n",
              "    </tr>\n",
              "    <tr>\n",
              "      <th>7_model.Dropout_7</th>\n",
              "      <td>-</td>\n",
              "      <td>[8192, 2100]</td>\n",
              "      <td>NaN</td>\n",
              "      <td>NaN</td>\n",
              "    </tr>\n",
              "    <tr>\n",
              "      <th>8_model.Linear_8</th>\n",
              "      <td>[2100, 2100]</td>\n",
              "      <td>[8192, 2100]</td>\n",
              "      <td>4412100.0</td>\n",
              "      <td>4410000.0</td>\n",
              "    </tr>\n",
              "    <tr>\n",
              "      <th>9_model.BatchNorm1d_9</th>\n",
              "      <td>[2100]</td>\n",
              "      <td>[8192, 2100]</td>\n",
              "      <td>4200.0</td>\n",
              "      <td>2100.0</td>\n",
              "    </tr>\n",
              "    <tr>\n",
              "      <th>10_model.Softplus_10</th>\n",
              "      <td>-</td>\n",
              "      <td>[8192, 2100]</td>\n",
              "      <td>NaN</td>\n",
              "      <td>NaN</td>\n",
              "    </tr>\n",
              "    <tr>\n",
              "      <th>11_model.Dropout_11</th>\n",
              "      <td>-</td>\n",
              "      <td>[8192, 2100]</td>\n",
              "      <td>NaN</td>\n",
              "      <td>NaN</td>\n",
              "    </tr>\n",
              "    <tr>\n",
              "      <th>12_model.Linear_12</th>\n",
              "      <td>[2100, 2100]</td>\n",
              "      <td>[8192, 2100]</td>\n",
              "      <td>4412100.0</td>\n",
              "      <td>4410000.0</td>\n",
              "    </tr>\n",
              "    <tr>\n",
              "      <th>13_model.BatchNorm1d_13</th>\n",
              "      <td>[2100]</td>\n",
              "      <td>[8192, 2100]</td>\n",
              "      <td>4200.0</td>\n",
              "      <td>2100.0</td>\n",
              "    </tr>\n",
              "    <tr>\n",
              "      <th>14_model.Softplus_14</th>\n",
              "      <td>-</td>\n",
              "      <td>[8192, 2100]</td>\n",
              "      <td>NaN</td>\n",
              "      <td>NaN</td>\n",
              "    </tr>\n",
              "    <tr>\n",
              "      <th>15_model.Dropout_15</th>\n",
              "      <td>-</td>\n",
              "      <td>[8192, 2100]</td>\n",
              "      <td>NaN</td>\n",
              "      <td>NaN</td>\n",
              "    </tr>\n",
              "    <tr>\n",
              "      <th>16_model.Linear_16</th>\n",
              "      <td>[2100, 2100]</td>\n",
              "      <td>[8192, 2100]</td>\n",
              "      <td>4412100.0</td>\n",
              "      <td>4410000.0</td>\n",
              "    </tr>\n",
              "    <tr>\n",
              "      <th>17_model.BatchNorm1d_17</th>\n",
              "      <td>[2100]</td>\n",
              "      <td>[8192, 2100]</td>\n",
              "      <td>4200.0</td>\n",
              "      <td>2100.0</td>\n",
              "    </tr>\n",
              "    <tr>\n",
              "      <th>18_model.Softplus_18</th>\n",
              "      <td>-</td>\n",
              "      <td>[8192, 2100]</td>\n",
              "      <td>NaN</td>\n",
              "      <td>NaN</td>\n",
              "    </tr>\n",
              "    <tr>\n",
              "      <th>19_model.Dropout_19</th>\n",
              "      <td>-</td>\n",
              "      <td>[8192, 2100]</td>\n",
              "      <td>NaN</td>\n",
              "      <td>NaN</td>\n",
              "    </tr>\n",
              "    <tr>\n",
              "      <th>20_model.Linear_20</th>\n",
              "      <td>[2100, 40]</td>\n",
              "      <td>[8192, 40]</td>\n",
              "      <td>84040.0</td>\n",
              "      <td>84000.0</td>\n",
              "    </tr>\n",
              "  </tbody>\n",
              "</table>\n",
              "</div>\n",
              "      <button class=\"colab-df-convert\" onclick=\"convertToInteractive('df-fed49ff2-d574-4834-9b20-fbbf9681e2d1')\"\n",
              "              title=\"Convert this dataframe to an interactive table.\"\n",
              "              style=\"display:none;\">\n",
              "        \n",
              "  <svg xmlns=\"http://www.w3.org/2000/svg\" height=\"24px\"viewBox=\"0 0 24 24\"\n",
              "       width=\"24px\">\n",
              "    <path d=\"M0 0h24v24H0V0z\" fill=\"none\"/>\n",
              "    <path d=\"M18.56 5.44l.94 2.06.94-2.06 2.06-.94-2.06-.94-.94-2.06-.94 2.06-2.06.94zm-11 1L8.5 8.5l.94-2.06 2.06-.94-2.06-.94L8.5 2.5l-.94 2.06-2.06.94zm10 10l.94 2.06.94-2.06 2.06-.94-2.06-.94-.94-2.06-.94 2.06-2.06.94z\"/><path d=\"M17.41 7.96l-1.37-1.37c-.4-.4-.92-.59-1.43-.59-.52 0-1.04.2-1.43.59L10.3 9.45l-7.72 7.72c-.78.78-.78 2.05 0 2.83L4 21.41c.39.39.9.59 1.41.59.51 0 1.02-.2 1.41-.59l7.78-7.78 2.81-2.81c.8-.78.8-2.07 0-2.86zM5.41 20L4 18.59l7.72-7.72 1.47 1.35L5.41 20z\"/>\n",
              "  </svg>\n",
              "      </button>\n",
              "      \n",
              "  <style>\n",
              "    .colab-df-container {\n",
              "      display:flex;\n",
              "      flex-wrap:wrap;\n",
              "      gap: 12px;\n",
              "    }\n",
              "\n",
              "    .colab-df-convert {\n",
              "      background-color: #E8F0FE;\n",
              "      border: none;\n",
              "      border-radius: 50%;\n",
              "      cursor: pointer;\n",
              "      display: none;\n",
              "      fill: #1967D2;\n",
              "      height: 32px;\n",
              "      padding: 0 0 0 0;\n",
              "      width: 32px;\n",
              "    }\n",
              "\n",
              "    .colab-df-convert:hover {\n",
              "      background-color: #E2EBFA;\n",
              "      box-shadow: 0px 1px 2px rgba(60, 64, 67, 0.3), 0px 1px 3px 1px rgba(60, 64, 67, 0.15);\n",
              "      fill: #174EA6;\n",
              "    }\n",
              "\n",
              "    [theme=dark] .colab-df-convert {\n",
              "      background-color: #3B4455;\n",
              "      fill: #D2E3FC;\n",
              "    }\n",
              "\n",
              "    [theme=dark] .colab-df-convert:hover {\n",
              "      background-color: #434B5C;\n",
              "      box-shadow: 0px 1px 3px 1px rgba(0, 0, 0, 0.15);\n",
              "      filter: drop-shadow(0px 1px 2px rgba(0, 0, 0, 0.3));\n",
              "      fill: #FFFFFF;\n",
              "    }\n",
              "  </style>\n",
              "\n",
              "      <script>\n",
              "        const buttonEl =\n",
              "          document.querySelector('#df-fed49ff2-d574-4834-9b20-fbbf9681e2d1 button.colab-df-convert');\n",
              "        buttonEl.style.display =\n",
              "          google.colab.kernel.accessAllowed ? 'block' : 'none';\n",
              "\n",
              "        async function convertToInteractive(key) {\n",
              "          const element = document.querySelector('#df-fed49ff2-d574-4834-9b20-fbbf9681e2d1');\n",
              "          const dataTable =\n",
              "            await google.colab.kernel.invokeFunction('convertToInteractive',\n",
              "                                                     [key], {});\n",
              "          if (!dataTable) return;\n",
              "\n",
              "          const docLinkHtml = 'Like what you see? Visit the ' +\n",
              "            '<a target=\"_blank\" href=https://colab.research.google.com/notebooks/data_table.ipynb>data table notebook</a>'\n",
              "            + ' to learn more about interactive tables.';\n",
              "          element.innerHTML = '';\n",
              "          dataTable['output_type'] = 'display_data';\n",
              "          await google.colab.output.renderOutput(dataTable, element);\n",
              "          const docLink = document.createElement('div');\n",
              "          docLink.innerHTML = docLinkHtml;\n",
              "          element.appendChild(docLink);\n",
              "        }\n",
              "      </script>\n",
              "    </div>\n",
              "  </div>\n",
              "  "
            ]
          },
          "metadata": {},
          "execution_count": 19
        }
      ],
      "source": [
        "in_features = (2*config['context'] + 1 ) * 27\n",
        "out_features = len(train_data.phonemes)\n",
        "model = TrainModel(in_features,out_features).to(device)\n",
        "print(model)\n",
        "summary(model,mfccs.to(device))"
      ]
    },
    {
      "cell_type": "code",
      "execution_count": null,
      "metadata": {
        "id": "7Cu4WCeTezww"
      },
      "outputs": [],
      "source": [
        "criterion = torch.nn.CrossEntropyLoss(label_smoothing=0.1)\n",
        "\n",
        "optimizer = torch.optim.AdamW(model.parameters(), lr = config['init_lr'])\n",
        "exp_lr_scheduler = optim.lr_scheduler.StepLR(optimizer,\n",
        "                                             step_size=6, gamma=0.5)\n",
        "scaler = torch.cuda.amp.GradScaler()"
      ]
    },
    {
      "cell_type": "code",
      "execution_count": null,
      "metadata": {
        "colab": {
          "base_uri": "https://localhost:8080/"
        },
        "id": "eJ3BZtd6e8KQ",
        "outputId": "9f0e2512-3667-4b98-94b9-6a809dcfbe28"
      },
      "outputs": [
        {
          "output_type": "execute_result",
          "data": {
            "text/plain": [
              "911"
            ]
          },
          "metadata": {},
          "execution_count": 21
        }
      ],
      "source": [
        "torch.cuda.empty_cache()\n",
        "gc.collect()"
      ]
    },
    {
      "cell_type": "code",
      "execution_count": null,
      "metadata": {
        "id": "HJuADQbOe_HT"
      },
      "outputs": [],
      "source": [
        "def train(model, dataloader, optimizer,criterion,scaler):\n",
        "\n",
        "  model.train()\n",
        "  tloss,tacc = 0,0\n",
        "  batch_bar = tqdm(total=len(train_loader),dynamic_ncols=True,leave=False,position=0,desc='Train')\n",
        "\n",
        "  for i, (mfccs,transcripts) in enumerate(dataloader):\n",
        "\n",
        "    optimizer.zero_grad()\n",
        "\n",
        "    mfccs = mfccs.to(device)\n",
        "    transcripts = transcripts.to(device)\n",
        "\n",
        "    with torch.autocast(device_type='cuda', dtype=torch.float16):\n",
        "      logits = model(mfccs)\n",
        "      loss = criterion(logits,transcripts)\n",
        "    \n",
        "\n",
        "    #loss.backward()\n",
        "    scaler.scale(loss).backward()\n",
        "\n",
        "    #optimizer.step()\n",
        "    scaler.step(optimizer)\n",
        "    scaler.update()\n",
        "\n",
        "    tloss += loss.item()\n",
        "    tacc  += torch.sum(torch.argmax(logits, dim=1)==transcripts).item()/logits.shape[0]\n",
        "\n",
        "    batch_bar.set_postfix(loss = \"{:.04f}\".format(float(tloss/(i+1))),\n",
        "                           acc =\"{:.04f}%\".format(float(tacc*100/(i+1))))\n",
        "    batch_bar.update()\n",
        "\n",
        "    del mfccs,transcripts,logits\n",
        "    torch.cuda.empty_cache()\n",
        "\n",
        "  batch_bar.close()\n",
        "  tloss /= len(train_loader)\n",
        "  tacc /= len(train_loader)\n",
        "\n",
        "  return tloss,tacc\n"
      ]
    },
    {
      "cell_type": "code",
      "execution_count": null,
      "metadata": {
        "id": "HBlRAL58gocn"
      },
      "outputs": [],
      "source": [
        "def eval(model, dataloader, optimizer,criterion):\n",
        "\n",
        "  model.eval()\n",
        "  vloss,vacc = 0,0\n",
        "  batch_bar = tqdm(total=len(val_loader),dynamic_ncols=True,leave=False,position=0,desc='Train')\n",
        "\n",
        "  for i, (mfccs,transcripts) in enumerate(dataloader):\n",
        "\n",
        "   \n",
        "\n",
        "    mfccs = mfccs.to(device)\n",
        "    transcripts = transcripts.to(device)\n",
        "    with torch.inference_mode():\n",
        "      logits = model(mfccs)\n",
        "      loss = criterion(logits,transcripts)\n",
        "\n",
        "   \n",
        "\n",
        "  \n",
        "    vloss += loss.item()\n",
        "    vacc  += torch.sum(torch.argmax(logits, dim=1)==transcripts).item()/logits.shape[0]\n",
        "\n",
        "    batch_bar.set_postfix(loss = \"{:.04f}\".format(float(vloss/(i+1))),\n",
        "                           acc =\"{:.04f}%\".format(float(vacc*100/(i+1))))\n",
        "    batch_bar.update()\n",
        "\n",
        "    del mfccs,transcripts,logits\n",
        "    torch.cuda.empty_cache()\n",
        "\n",
        "  batch_bar.close()\n",
        "  vloss /= len(val_loader)\n",
        "  vacc /= len(val_loader)\n",
        "\n",
        "  return vloss,vacc"
      ]
    },
    {
      "cell_type": "code",
      "source": [
        "wandb.login(key=\"e2fbcbd28e7f2e0bdeb1ab36f90d65664c335bd7\")"
      ],
      "metadata": {
        "id": "x9ORMUTC2Mkg",
        "colab": {
          "base_uri": "https://localhost:8080/"
        },
        "outputId": "902ccb41-cfdb-419e-e4ba-7f7a4064b177"
      },
      "execution_count": null,
      "outputs": [
        {
          "output_type": "stream",
          "name": "stderr",
          "text": [
            "ERROR:wandb.jupyter:Failed to detect the name of this notebook, you can set it manually with the WANDB_NOTEBOOK_NAME environment variable to enable code saving.\n",
            "\u001b[34m\u001b[1mwandb\u001b[0m: Currently logged in as: \u001b[33madritad\u001b[0m (\u001b[33miw\u001b[0m). Use \u001b[1m`wandb login --relogin`\u001b[0m to force relogin\n",
            "\u001b[34m\u001b[1mwandb\u001b[0m: \u001b[33mWARNING\u001b[0m If you're specifying your api key in code, ensure this code is not shared publicly.\n",
            "\u001b[34m\u001b[1mwandb\u001b[0m: \u001b[33mWARNING\u001b[0m Consider setting the WANDB_API_KEY environment variable, or running `wandb login` from the command line.\n",
            "\u001b[34m\u001b[1mwandb\u001b[0m: Appending key for api.wandb.ai to your netrc file: /root/.netrc\n"
          ]
        },
        {
          "output_type": "execute_result",
          "data": {
            "text/plain": [
              "True"
            ]
          },
          "metadata": {},
          "execution_count": 23
        }
      ]
    },
    {
      "cell_type": "code",
      "source": [
        "run = wandb.init(\n",
        "    name    = \"360-run2\", ### Wandb creates random run names if you skip this field, we recommend you give useful names\n",
        "    reinit  = True, ### Allows reinitalizing runs when you re-run this cell\n",
        "    #id     = \"y28t31uz\", ### Insert specific run id here if you want to resume a previous run\n",
        "    #resume = \"must\", ### You need this to resume previous runs, but comment out reinit = True when using this\n",
        "    project = \"hw1p2\", ### Project should be created in your wandb account \n",
        "    config  = config ### Wandb Config for your run\n",
        ")"
      ],
      "metadata": {
        "id": "_5z0UGyN2Rnh",
        "colab": {
          "base_uri": "https://localhost:8080/",
          "height": 104
        },
        "outputId": "8f2dbb96-c145-45d3-9d46-7f69eee75837"
      },
      "execution_count": null,
      "outputs": [
        {
          "output_type": "display_data",
          "data": {
            "text/plain": [
              "<IPython.core.display.HTML object>"
            ],
            "text/html": [
              "Tracking run with wandb version 0.13.10"
            ]
          },
          "metadata": {}
        },
        {
          "output_type": "display_data",
          "data": {
            "text/plain": [
              "<IPython.core.display.HTML object>"
            ],
            "text/html": [
              "Run data is saved locally in <code>/content/wandb/run-20230227_204932-zaruvj2t</code>"
            ]
          },
          "metadata": {}
        },
        {
          "output_type": "display_data",
          "data": {
            "text/plain": [
              "<IPython.core.display.HTML object>"
            ],
            "text/html": [
              "Syncing run <strong><a href='https://wandb.ai/iw/hw1p2/runs/zaruvj2t' target=\"_blank\">360-run</a></strong> to <a href='https://wandb.ai/iw/hw1p2' target=\"_blank\">Weights & Biases</a> (<a href='https://wandb.me/run' target=\"_blank\">docs</a>)<br/>"
            ]
          },
          "metadata": {}
        },
        {
          "output_type": "display_data",
          "data": {
            "text/plain": [
              "<IPython.core.display.HTML object>"
            ],
            "text/html": [
              " View project at <a href='https://wandb.ai/iw/hw1p2' target=\"_blank\">https://wandb.ai/iw/hw1p2</a>"
            ]
          },
          "metadata": {}
        },
        {
          "output_type": "display_data",
          "data": {
            "text/plain": [
              "<IPython.core.display.HTML object>"
            ],
            "text/html": [
              " View run at <a href='https://wandb.ai/iw/hw1p2/runs/zaruvj2t' target=\"_blank\">https://wandb.ai/iw/hw1p2/runs/zaruvj2t</a>"
            ]
          },
          "metadata": {}
        }
      ]
    },
    {
      "cell_type": "code",
      "source": [
        "model_arch  = str(model)\n",
        "\n",
        "### Save it in a txt file \n",
        "arch_file   = open(\"model_arch.txt\", \"w\")\n",
        "file_write  = arch_file.write(model_arch)\n",
        "arch_file.close()\n",
        "\n",
        "### log it in your wandb run with wandb.save()\n",
        "wandb.save('model_arch.txt')"
      ],
      "metadata": {
        "id": "7RJYoTD22W_d",
        "colab": {
          "base_uri": "https://localhost:8080/"
        },
        "outputId": "599b8e12-1ead-45d3-f2db-cb66c5fb867a"
      },
      "execution_count": null,
      "outputs": [
        {
          "output_type": "execute_result",
          "data": {
            "text/plain": [
              "['/content/wandb/run-20230227_204932-zaruvj2t/files/model_arch.txt']"
            ]
          },
          "metadata": {},
          "execution_count": 25
        }
      ]
    },
    {
      "cell_type": "code",
      "execution_count": null,
      "metadata": {
        "id": "F_d7B0mmzzvg"
      },
      "outputs": [],
      "source": [
        "torch.cuda.empty_cache()\n",
        "gc.collect()\n",
        "\n",
        "optimizer.param_groups[0]['lr'] = 1e-3\n",
        "\n",
        "config['epochs'] = 60\n",
        "for epoch in range(config['epochs']):\n",
        "\n",
        "  print(\"\\nEpoch {}/{}\".format(epoch+1,config['epochs']))\n",
        "\n",
        "  curr_lr = float(optimizer.param_groups[0]['lr'])\n",
        "  train_loss, train_acc = train(model,train_loader,optimizer,criterion,scaler)\n",
        "  val_loss,val_acc = eval(model,val_loader,optimizer,criterion)\n",
        "\n",
        "  print(\"\\tTrain Acc {:.04f}%\\tTrain Loss {:.04f}\\t Learning Rate {:.07f}\".format(train_acc*100, train_loss,curr_lr))\n",
        "  print(\"\\tVal Acc {:.04f}%\\tVal Loss {:.04f}\".format(val_acc*100 , val_loss))\n",
        "  torch.save({\n",
        "            'epoch': epoch,\n",
        "            'model_state_dict': model.state_dict(),\n",
        "            'optimizer_state_dict': optimizer.state_dict(),\n",
        "            'Accuracy': val_acc,\n",
        "            },\"/content/drive/MyDrive/checkpoint/chk_\"+str(epoch)+\".pth\")\n"
      ]
    },
    {
      "cell_type": "code",
      "source": [
        "#checkpoint = torch.load(\"/content/drive/MyDrive/checkpoint/chk_\"+str(40)+\".pth\")\n",
        "#model.load_state_dict(checkpoint['model_state_dict'])\n",
        "#optimizer.load_state_dict(checkpoint['optimizer_state_dict'])\n",
        "#optimizer.param_groups[0]['lr'] = 1e-5\n",
        "#e = checkpoint['epoch'] + 1"
      ],
      "metadata": {
        "id": "OVkdraWGvSBo"
      },
      "execution_count": null,
      "outputs": []
    },
    {
      "cell_type": "code",
      "execution_count": null,
      "metadata": {
        "id": "Cdr4QzrlPuw8"
      },
      "outputs": [],
      "source": [
        "def test(model, dataloader,optimizer,criterion):\n",
        "    ### What you call for model to perform inference?\n",
        "    model.eval()\n",
        "\n",
        "    ### List to store predicted phonemes of test data\n",
        "    test_predictions = []\n",
        "\n",
        "    ### Which mode do you need to avoid gradients?\n",
        "    with torch.inference_mode():\n",
        "\n",
        "        for i, mfccs in enumerate(tqdm(test_loader)):\n",
        "\n",
        "            mfccs   = mfccs.to(device)             \n",
        "            \n",
        "            logits  = model(mfccs)\n",
        "\n",
        "            ### Get most likely predicted phoneme with argmax\n",
        "            predicted_labels = torch.argmax(model(mfccs), dim=1)\n",
        "            test_predictions.extend(list(predicted_labels.detach().cpu().numpy()))\n",
        "\n",
        "            ### How do you store predicted_phonemes with test_predictions? Hint, look at eval \n",
        "            # TODO\n",
        "\n",
        "    return test_predictions"
      ]
    },
    {
      "cell_type": "code",
      "execution_count": null,
      "metadata": {
        "id": "GYhDtFQ5PxCg"
      },
      "outputs": [],
      "source": [
        "test_predictions = test(model,test_loader,optimizer,criterion) "
      ]
    },
    {
      "cell_type": "code",
      "execution_count": null,
      "metadata": {
        "id": "ja7utEsZP4Id"
      },
      "outputs": [],
      "source": [
        "### Create CSV file with predictions\n",
        "with open(\"./submission.csv\", \"w+\") as f:\n",
        "    f.write(\"id,label\\n\")\n",
        "    for i in range(len(test_predictions)):\n",
        "        f.write(\"{},{}\\n\".format(i, PHONEMES[test_predictions[i]]))"
      ]
    },
    {
      "cell_type": "code",
      "execution_count": null,
      "metadata": {
        "id": "zlCZizVHRVxK"
      },
      "outputs": [],
      "source": [
        "!kaggle competitions submit -c 11-785-s23-hw1p2 -f ./submission.csv -m \"Test Submission\""
      ]
    },
    {
      "cell_type": "code",
      "execution_count": null,
      "metadata": {
        "id": "utH0_5xQgIFt",
        "colab": {
          "base_uri": "https://localhost:8080/"
        },
        "outputId": "9c16b286-93f9-4b54-a9e7-36eec26ba6f3"
      },
      "outputs": [
        {
          "output_type": "stream",
          "name": "stdout",
          "text": [
            "Drive already mounted at /content/drive; to attempt to forcibly remount, call drive.mount(\"/content/drive\", force_remount=True).\n"
          ]
        }
      ],
      "source": [
        "from google.colab import drive\n",
        "drive.mount('/content/drive')"
      ]
    }
  ],
  "metadata": {
    "accelerator": "GPU",
    "colab": {
      "machine_shape": "hm",
      "provenance": []
    },
    "gpuClass": "standard",
    "kernelspec": {
      "display_name": "Python 3",
      "name": "python3"
    },
    "language_info": {
      "name": "python"
    }
  },
  "nbformat": 4,
  "nbformat_minor": 0
}